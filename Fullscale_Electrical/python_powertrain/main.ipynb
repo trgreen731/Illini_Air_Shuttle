{
 "cells": [
  {
   "cell_type": "code",
   "execution_count": 6,
   "metadata": {},
   "outputs": [
    {
     "name": "stdout",
     "output_type": "stream",
     "text": [
      "244.35566500551914\n"
     ]
    }
   ],
   "source": [
    "#import statements and helper functions\n",
    "import numpy as np\n",
    "import scipy.integrate as integrate\n",
    "import matplotlib.pyplot as plt\n",
    "import cmath\n",
    "\n",
    "%matplotlib inline\n",
    "\n",
    "#model constants\n",
    "t_step = 1e-6 #sec\n",
    "t_tot = 3850 #sec\n",
    "length = int(t_tot/t_step)\n",
    "\n",
    "#variable arrays\n",
    "V_d = np.zeros(length)\n",
    "V_q = np.zeros(length)\n",
    "I_d = np.zeros(length)\n",
    "I_q = np.zeros(length)\n",
    "Vff_d = np.zeros(length)\n",
    "Vff_q = np.zeros(length)\n",
    "w_m = np.zeros(length)\n",
    "w_e = np.zeros(length)\n",
    "theta = np.zeros(length)\n",
    "V_u = np.zeros(length)\n",
    "V_w = np.zeros(length)\n",
    "V_v = np.zeros(length)\n",
    "V_bat = np.zeros(length)\n",
    "w_ref = np.zeros(length)\n",
    "T_load = np.zeros(length)\n",
    "\n",
    "#initial conditions\n",
    "t = 0 #integer steps then scaled for plotting\n",
    "\n",
    "#derivative with respect to time approx of some value x\n",
    "# x_curr = current value\n",
    "# x_prev = value at previous time step\n",
    "# delta_t = change in time\n",
    "def deriv(x_curr, x_prev, delta_t):\n",
    "    return (x_curr - x_prev) / delta_t\n",
    "\n",
    "#pi controller function\n",
    "# x = array for specific value\n",
    "# t = current time int value\n",
    "# k_p = proportional gain\n",
    "# k_i = integral gain\n",
    "def pi_control(x, t, k_p, k_i):\n",
    "    return (k_p*x[t])+(k_i*t_step*integrate.trapezoid(x))\n",
    "\n",
    "\n",
    "#park transform\n",
    "def park(a, b, c, theta):\n",
    "    \n",
    "    return (d, q)\n",
    "\n",
    "\n",
    "#inverse park transform\n",
    "def inv_park(d, q, theta):\n",
    "    \n",
    "    return (a, b, c)\n",
    "\n",
    "\n",
    "def integral_test():\n",
    "    x = np.zeros(1000)\n",
    "    for i in range(0, 1000):\n",
    "        x[i] = cmath.sin(i/2000).real\n",
    "    print(integrate.trapezoid(x))"
   ]
  },
  {
   "cell_type": "code",
   "execution_count": null,
   "metadata": {},
   "outputs": [],
   "source": [
    "#motor constants\n",
    "\n",
    "#motor equation content\n",
    "def motor(V_d, V_q, w_m, w_e, T_load):\n",
    "    \n",
    "    return (I_d, I_q, Vff_d, Vff_q, w_m, w_e, theta)\n",
    "\n",
    "#motor test case\n"
   ]
  },
  {
   "cell_type": "code",
   "execution_count": null,
   "metadata": {},
   "outputs": [],
   "source": [
    "#battery constants\n",
    "\n",
    "#battery equation content\n",
    "def battery(V_d, V_q, I_d, I_q, V_bat):\n",
    "    \n",
    "    return (V_bat)\n",
    "\n",
    "#battery test case\n"
   ]
  },
  {
   "cell_type": "code",
   "execution_count": null,
   "metadata": {},
   "outputs": [],
   "source": [
    "#inverter constants\n",
    "\n",
    "#inverter equation content\n",
    "def inverter(V_u, V_w, V_v):\n",
    "    \n",
    "    return (V_d, V_q)\n",
    "\n",
    "#inverter test case\n"
   ]
  },
  {
   "cell_type": "code",
   "execution_count": null,
   "metadata": {},
   "outputs": [],
   "source": [
    "#control system constants\n",
    "\n",
    "#control system equation content\n",
    "def controls(w_ref, w_m, theta, I_d, I_q, Vff_d, Vff_q):\n",
    "    \n",
    "    return (V_u, V_w, V_v)\n",
    "\n",
    "#control system test case\n"
   ]
  },
  {
   "cell_type": "code",
   "execution_count": null,
   "metadata": {},
   "outputs": [],
   "source": [
    "#flight requirement constants\n",
    "\n",
    "#flight requirement equations\n",
    "def flight_req(t):\n",
    "    \n",
    "    return (T_load, w_ref)\n",
    "\n",
    "#flight requirement test case\n"
   ]
  },
  {
   "cell_type": "code",
   "execution_count": null,
   "metadata": {},
   "outputs": [],
   "source": [
    "#main block (connect all components in while loop)\n",
    "while t < length:\n",
    "    (T_load[t+1], w_ref[t+1]) = flight_req(t)\n",
    "    (I_d[t+1], I_q[t+1], Vff_d[t+1], Vff_q[t+1], w_m[t+1], w_e[t+1], theta[t+1]) = motor(V_d[t], V_q[t], w_m[t], w_e[t], T_load[t])\n",
    "    (V_u[t+1], V_w[t+1], V_v[t+1]) = controls(w_ref[t], w_m[t], theta[t], I_d[t], I_q[t], Vff_d[t], Vff_q[t])\n",
    "    (V_d[t+1], V_q[t+1]) = inverter(V_u[t], V_w[t], V_v[t])\n",
    "    (V_bat[t+1]) = battery(V_d[t], V_q[t], I_d[t], I_q[t], V_bat[t])\n",
    "    t += 1\n",
    "\n",
    "#plot results\n"
   ]
  }
 ],
 "metadata": {
  "kernelspec": {
   "display_name": "Python 3",
   "language": "python",
   "name": "python3"
  },
  "language_info": {
   "codemirror_mode": {
    "name": "ipython",
    "version": 3
   },
   "file_extension": ".py",
   "mimetype": "text/x-python",
   "name": "python",
   "nbconvert_exporter": "python",
   "pygments_lexer": "ipython3",
   "version": "3.7.4"
  }
 },
 "nbformat": 4,
 "nbformat_minor": 5
}
